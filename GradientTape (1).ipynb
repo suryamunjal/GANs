{
  "nbformat": 4,
  "nbformat_minor": 0,
  "metadata": {
    "colab": {
      "provenance": []
    },
    "kernelspec": {
      "name": "python3",
      "display_name": "Python 3"
    },
    "language_info": {
      "name": "python"
    }
  },
  "cells": [
    {
      "cell_type": "code",
      "execution_count": 3,
      "metadata": {
        "id": "7i7nhm2FPmKU"
      },
      "outputs": [],
      "source": [
        "#tensorFlow and tf.keras\n",
        "import tensorflow as tf\n",
        "from tensorflow import keras\n",
        "\n",
        "import numpy as np\n",
        "import matplotlib.pyplot as plt\n",
        "import pandas as pd\n",
        "import os\n",
        "import datetime"
      ]
    },
    {
      "cell_type": "code",
      "source": [],
      "metadata": {
        "id": "4_1Mnja2rDmB"
      },
      "execution_count": null,
      "outputs": []
    },
    {
      "cell_type": "markdown",
      "source": [
        "#difference between tensorflow constant and tensorflow variable\n"
      ],
      "metadata": {
        "id": "q8UH-bKyQNB5"
      }
    },
    {
      "cell_type": "code",
      "source": [
        "#creating a trainable parameter\n",
        "x=tf.Variable(2,trainable=True)"
      ],
      "metadata": {
        "id": "U7S4KnAvQMh0"
      },
      "execution_count": 4,
      "outputs": []
    },
    {
      "cell_type": "code",
      "source": [
        "#basically finding dy/dx\n",
        "\n",
        "x=tf.Variable(2.0,trainable=True)\n",
        "with tf.GradientTape() as t:\n",
        "  t.watch(x)\n",
        "  y=x**2\n",
        "\n",
        "print(t.gradient(y,x).numpy())"
      ],
      "metadata": {
        "colab": {
          "base_uri": "https://localhost:8080/"
        },
        "id": "Piyhew3OQG7P",
        "outputId": "868572f5-c95b-4b48-c205-4d1a794811f8"
      },
      "execution_count": 7,
      "outputs": [
        {
          "output_type": "stream",
          "name": "stdout",
          "text": [
            "4.0\n"
          ]
        }
      ]
    },
    {
      "cell_type": "code",
      "source": [
        "x=tf.Variable(2.0,trainable=True)\n",
        "with tf.GradientTape() as t:\n",
        "  t.watch(x)\n",
        "  with tf.GradientTape() as tt:\n",
        "    tt.watch(x)\n",
        "    y=x**2\n",
        "  first_derivative=tt.gradient(y,x)\n",
        "second_derivative=t.gradient(first_derivative,x)\n",
        "    \n",
        "print(first_derivative.numpy())\n",
        "print(second_derivative.numpy())"
      ],
      "metadata": {
        "colab": {
          "base_uri": "https://localhost:8080/"
        },
        "id": "Vrve0De6rj4Z",
        "outputId": "147aafb6-99b5-40c7-c9c6-2bfca31f7ecc"
      },
      "execution_count": 11,
      "outputs": [
        {
          "output_type": "stream",
          "name": "stdout",
          "text": [
            "4.0\n",
            "2.0\n"
          ]
        }
      ]
    },
    {
      "cell_type": "code",
      "source": [
        "x=tf.Variable(2.0,trainable=True)\n",
        "with tf.GradientTape(persistent=True) as t:\n",
        "  t.watch(x)\n",
        "  y=x**2\n",
        "  z=y**2\n",
        "\n",
        "print(t.gradient(z,x).numpy())\n",
        "print(t.gradient(y,x).numpy())"
      ],
      "metadata": {
        "colab": {
          "base_uri": "https://localhost:8080/"
        },
        "id": "ey_YoZb3vpX-",
        "outputId": "0614d3cd-aaaf-47d9-bc57-b93623267338"
      },
      "execution_count": 15,
      "outputs": [
        {
          "output_type": "stream",
          "name": "stdout",
          "text": [
            "32.0\n",
            "4.0\n"
          ]
        }
      ]
    },
    {
      "cell_type": "code",
      "source": [
        "x=tf.Variable(2.0,trainable=True)\n",
        "with tf.GradientTape(persistent=True) as t:\n",
        "  t.watch(x)\n",
        "  y=x**3\n",
        "  z=y**3\n",
        "\n",
        "dz_dx_dy=t.gradient(z,[x,y])\n",
        "print(dz_dx_dy)\n"
      ],
      "metadata": {
        "colab": {
          "base_uri": "https://localhost:8080/"
        },
        "id": "69nzdeR_1z1p",
        "outputId": "635d59e8-5a2d-4a82-9a52-2ac1c709dfd8"
      },
      "execution_count": 22,
      "outputs": [
        {
          "output_type": "stream",
          "name": "stdout",
          "text": [
            "[<tf.Tensor: shape=(), dtype=float32, numpy=32.0>, <tf.Tensor: shape=(), dtype=float32, numpy=8.0>]\n"
          ]
        }
      ]
    },
    {
      "cell_type": "code",
      "source": [
        "x=tf.Variable(2.0,trainable=True)\n",
        "y=tf.Variable(3.0,trainable=True)\n",
        "with tf.GradientTape(persistent=True) as t:\n",
        "  t.watch(x)\n",
        "  z=y**3 + x**3\n",
        "\n",
        "dz_dx_dy=t.gradient(z,[x,y])"
      ],
      "metadata": {
        "id": "TeRMU-TK7l2i"
      },
      "execution_count": 27,
      "outputs": []
    },
    {
      "cell_type": "code",
      "source": [
        "dz_dx_dy"
      ],
      "metadata": {
        "colab": {
          "base_uri": "https://localhost:8080/"
        },
        "id": "9iwvoK0l8oQy",
        "outputId": "92ae9150-92fd-48bb-8e52-dfba364249d1"
      },
      "execution_count": 28,
      "outputs": [
        {
          "output_type": "execute_result",
          "data": {
            "text/plain": [
              "[<tf.Tensor: shape=(), dtype=float32, numpy=12.0>,\n",
              " <tf.Tensor: shape=(), dtype=float32, numpy=27.0>]"
            ]
          },
          "metadata": {},
          "execution_count": 28
        }
      ]
    },
    {
      "cell_type": "code",
      "source": [
        "x=tf.constant(2.0)\n",
        "with tf.GradientTape() as t:\n",
        "  t.watch(x)\n",
        "  y=x**2\n",
        "\n",
        "print(t.gradient(y,x).numpy())"
      ],
      "metadata": {
        "colab": {
          "base_uri": "https://localhost:8080/"
        },
        "id": "lYh7ufyu8qeD",
        "outputId": "feaafb76-497b-4346-d369-014227cf6626"
      },
      "execution_count": 31,
      "outputs": [
        {
          "output_type": "stream",
          "name": "stdout",
          "text": [
            "4.0\n"
          ]
        }
      ]
    },
    {
      "cell_type": "code",
      "source": [],
      "metadata": {
        "id": "K6EYGAdt9xwv"
      },
      "execution_count": null,
      "outputs": []
    }
  ]
}